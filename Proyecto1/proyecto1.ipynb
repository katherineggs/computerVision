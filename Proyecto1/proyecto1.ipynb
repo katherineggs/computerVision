{
 "cells": [
  {
   "cell_type": "code",
   "execution_count": 1,
   "metadata": {},
   "outputs": [],
   "source": [
    "from sklearn.model_selection import train_test_split\n",
    "from sklearn.ensemble import AdaBoostClassifier\n",
    "from skimage.feature import hog\n",
    "import cv2 as cv\n",
    "import os"
   ]
  },
  {
   "cell_type": "code",
   "execution_count": 2,
   "metadata": {},
   "outputs": [],
   "source": [
    "def loadImg(path, img):\n",
    "    \"\"\"Load img from imgs folder\n",
    "\n",
    "    Args:\n",
    "        path (str): path of file\n",
    "\n",
    "    Returns:\n",
    "        im: image in grayscale\n",
    "    \"\"\"\n",
    "    # color\n",
    "    im = cv.imread(os.path.join(path, img), cv.IMREAD_COLOR)\n",
    "    im = cv.cvtColor(im, cv.COLOR_BGR2RGB)\n",
    "\n",
    "    return im\n"
   ]
  },
  {
   "cell_type": "code",
   "execution_count": 3,
   "metadata": {},
   "outputs": [],
   "source": [
    "def getHog(folderP):\n",
    "    result = []\n",
    "    for filename in os.listdir(folderP):\n",
    "        img = loadImg(folderP,filename)\n",
    "        if img is not None:\n",
    "            for channel in range(len(img.shape)): # (128, 64, 3)\n",
    "                chan = img[:,:,channel]\n",
    "                hogImg = hog(chan,orientations=9, pixels_per_cell=(8, 8), cells_per_block=(2, 2), block_norm='L2')\n",
    "                result.append(hogImg)\n",
    "    return result"
   ]
  },
  {
   "cell_type": "markdown",
   "metadata": {},
   "source": [
    "# Cargar data \n",
    "- Se toma 53s con el dataset completo"
   ]
  },
  {
   "cell_type": "code",
   "execution_count": 9,
   "metadata": {},
   "outputs": [],
   "source": [
    "# folderP = 'Pedestrians-Dataset-complete/Pedestrians-Dataset-Dummy/Pedestrians'\n",
    "# folderB = 'Pedestrians-Dataset-complete/Pedestrians-Dataset-Dummy/Background'\n",
    "folderP = 'Pedestrians-Dataset-complete/Pedestrians-Dataset/Pedestrians'\n",
    "folderB = 'Pedestrians-Dataset-complete/Pedestrians-Dataset/Background'\n",
    "X = getHog(folderP)\n",
    "y = getHog(folderB)\n",
    "images = X+y\n"
   ]
  },
  {
   "cell_type": "markdown",
   "metadata": {},
   "source": [
    "# Separar data\n",
    "- X & y no son del mismo tamaño!!! ⚠️\n",
    "- Botamos el extra?"
   ]
  },
  {
   "cell_type": "code",
   "execution_count": 10,
   "metadata": {},
   "outputs": [
    {
     "ename": "ValueError",
     "evalue": "Found input variables with inconsistent numbers of samples: [7248, 8970]",
     "output_type": "error",
     "traceback": [
      "\u001b[0;31m---------------------------------------------------------------------------\u001b[0m",
      "\u001b[0;31mValueError\u001b[0m                                Traceback (most recent call last)",
      "\u001b[1;32m/Users/katherinegarcia/Desktop/computerVision/Proyecto1/proyecto1.ipynb Cell 7\u001b[0m in \u001b[0;36m<module>\u001b[0;34m\u001b[0m\n\u001b[0;32m----> <a href='vscode-notebook-cell:/Users/katherinegarcia/Desktop/computerVision/Proyecto1/proyecto1.ipynb#X12sZmlsZQ%3D%3D?line=0'>1</a>\u001b[0m xTrain, xTest, yTrain, yTest \u001b[39m=\u001b[39m train_test_split(X, y, test_size\u001b[39m=\u001b[39;49m\u001b[39m0.3\u001b[39;49m, random_state\u001b[39m=\u001b[39;49m\u001b[39m42\u001b[39;49m, shuffle\u001b[39m=\u001b[39;49m\u001b[39mTrue\u001b[39;49;00m)\n",
      "File \u001b[0;32m~/opt/anaconda3/envs/ml/lib/python3.9/site-packages/sklearn/model_selection/_split.py:2417\u001b[0m, in \u001b[0;36mtrain_test_split\u001b[0;34m(test_size, train_size, random_state, shuffle, stratify, *arrays)\u001b[0m\n\u001b[1;32m   2414\u001b[0m \u001b[39mif\u001b[39;00m n_arrays \u001b[39m==\u001b[39m \u001b[39m0\u001b[39m:\n\u001b[1;32m   2415\u001b[0m     \u001b[39mraise\u001b[39;00m \u001b[39mValueError\u001b[39;00m(\u001b[39m\"\u001b[39m\u001b[39mAt least one array required as input\u001b[39m\u001b[39m\"\u001b[39m)\n\u001b[0;32m-> 2417\u001b[0m arrays \u001b[39m=\u001b[39m indexable(\u001b[39m*\u001b[39;49marrays)\n\u001b[1;32m   2419\u001b[0m n_samples \u001b[39m=\u001b[39m _num_samples(arrays[\u001b[39m0\u001b[39m])\n\u001b[1;32m   2420\u001b[0m n_train, n_test \u001b[39m=\u001b[39m _validate_shuffle_split(\n\u001b[1;32m   2421\u001b[0m     n_samples, test_size, train_size, default_test_size\u001b[39m=\u001b[39m\u001b[39m0.25\u001b[39m\n\u001b[1;32m   2422\u001b[0m )\n",
      "File \u001b[0;32m~/opt/anaconda3/envs/ml/lib/python3.9/site-packages/sklearn/utils/validation.py:378\u001b[0m, in \u001b[0;36mindexable\u001b[0;34m(*iterables)\u001b[0m\n\u001b[1;32m    359\u001b[0m \u001b[39m\"\"\"Make arrays indexable for cross-validation.\u001b[39;00m\n\u001b[1;32m    360\u001b[0m \n\u001b[1;32m    361\u001b[0m \u001b[39mChecks consistent length, passes through None, and ensures that everything\u001b[39;00m\n\u001b[0;32m   (...)\u001b[0m\n\u001b[1;32m    374\u001b[0m \u001b[39m    sparse matrix, or dataframe) or `None`.\u001b[39;00m\n\u001b[1;32m    375\u001b[0m \u001b[39m\"\"\"\u001b[39;00m\n\u001b[1;32m    377\u001b[0m result \u001b[39m=\u001b[39m [_make_indexable(X) \u001b[39mfor\u001b[39;00m X \u001b[39min\u001b[39;00m iterables]\n\u001b[0;32m--> 378\u001b[0m check_consistent_length(\u001b[39m*\u001b[39;49mresult)\n\u001b[1;32m    379\u001b[0m \u001b[39mreturn\u001b[39;00m result\n",
      "File \u001b[0;32m~/opt/anaconda3/envs/ml/lib/python3.9/site-packages/sklearn/utils/validation.py:332\u001b[0m, in \u001b[0;36mcheck_consistent_length\u001b[0;34m(*arrays)\u001b[0m\n\u001b[1;32m    330\u001b[0m uniques \u001b[39m=\u001b[39m np\u001b[39m.\u001b[39munique(lengths)\n\u001b[1;32m    331\u001b[0m \u001b[39mif\u001b[39;00m \u001b[39mlen\u001b[39m(uniques) \u001b[39m>\u001b[39m \u001b[39m1\u001b[39m:\n\u001b[0;32m--> 332\u001b[0m     \u001b[39mraise\u001b[39;00m \u001b[39mValueError\u001b[39;00m(\n\u001b[1;32m    333\u001b[0m         \u001b[39m\"\u001b[39m\u001b[39mFound input variables with inconsistent numbers of samples: \u001b[39m\u001b[39m%r\u001b[39;00m\u001b[39m\"\u001b[39m\n\u001b[1;32m    334\u001b[0m         \u001b[39m%\u001b[39m [\u001b[39mint\u001b[39m(l) \u001b[39mfor\u001b[39;00m l \u001b[39min\u001b[39;00m lengths]\n\u001b[1;32m    335\u001b[0m     )\n",
      "\u001b[0;31mValueError\u001b[0m: Found input variables with inconsistent numbers of samples: [7248, 8970]"
     ]
    }
   ],
   "source": [
    "xTrain, xTest, yTrain, yTest = train_test_split(X, y, test_size=0.3, random_state=42, shuffle=True)\n",
    "# train, test = train_test_split(images, test_size=0.3, random_state=42, shuffle=True)"
   ]
  },
  {
   "cell_type": "markdown",
   "metadata": {},
   "source": [
    "# Adaboost"
   ]
  },
  {
   "cell_type": "code",
   "execution_count": 8,
   "metadata": {},
   "outputs": [
    {
     "ename": "TypeError",
     "evalue": "fit() missing 1 required positional argument: 'y'",
     "output_type": "error",
     "traceback": [
      "\u001b[0;31m---------------------------------------------------------------------------\u001b[0m",
      "\u001b[0;31mTypeError\u001b[0m                                 Traceback (most recent call last)",
      "\u001b[1;32m/Users/katherinegarcia/Desktop/computerVision/Proyecto1/proyecto1.ipynb Cell 9\u001b[0m in \u001b[0;36m<module>\u001b[0;34m\u001b[0m\n\u001b[1;32m      <a href='vscode-notebook-cell:/Users/katherinegarcia/Desktop/computerVision/Proyecto1/proyecto1.ipynb#X20sZmlsZQ%3D%3D?line=1'>2</a>\u001b[0m abc \u001b[39m=\u001b[39m AdaBoostClassifier(n_estimators\u001b[39m=\u001b[39m\u001b[39m50\u001b[39m,\n\u001b[1;32m      <a href='vscode-notebook-cell:/Users/katherinegarcia/Desktop/computerVision/Proyecto1/proyecto1.ipynb#X20sZmlsZQ%3D%3D?line=2'>3</a>\u001b[0m                          learning_rate\u001b[39m=\u001b[39m\u001b[39m1\u001b[39m)\n\u001b[1;32m      <a href='vscode-notebook-cell:/Users/katherinegarcia/Desktop/computerVision/Proyecto1/proyecto1.ipynb#X20sZmlsZQ%3D%3D?line=3'>4</a>\u001b[0m \u001b[39m# Train Adaboost Classifer\u001b[39;00m\n\u001b[0;32m----> <a href='vscode-notebook-cell:/Users/katherinegarcia/Desktop/computerVision/Proyecto1/proyecto1.ipynb#X20sZmlsZQ%3D%3D?line=4'>5</a>\u001b[0m model \u001b[39m=\u001b[39m abc\u001b[39m.\u001b[39;49mfit(train)\n\u001b[1;32m      <a href='vscode-notebook-cell:/Users/katherinegarcia/Desktop/computerVision/Proyecto1/proyecto1.ipynb#X20sZmlsZQ%3D%3D?line=6'>7</a>\u001b[0m \u001b[39m#Predict the response for test dataset\u001b[39;00m\n\u001b[1;32m      <a href='vscode-notebook-cell:/Users/katherinegarcia/Desktop/computerVision/Proyecto1/proyecto1.ipynb#X20sZmlsZQ%3D%3D?line=7'>8</a>\u001b[0m preds \u001b[39m=\u001b[39m model\u001b[39m.\u001b[39mpredict(test)\n",
      "\u001b[0;31mTypeError\u001b[0m: fit() missing 1 required positional argument: 'y'"
     ]
    }
   ],
   "source": [
    "# Create adaboost classifer object\n",
    "abc = AdaBoostClassifier(n_estimators=50,\n",
    "                         learning_rate=1)\n",
    "# Train Adaboost Classifer\n",
    "model = abc.fit(xTrain, yTrain)\n",
    "\n",
    "#Predict the response for test dataset\n",
    "preds = model.predict(xTest)\n"
   ]
  }
 ],
 "metadata": {
  "kernelspec": {
   "display_name": "Python 3.9.7 ('ml')",
   "language": "python",
   "name": "python3"
  },
  "language_info": {
   "codemirror_mode": {
    "name": "ipython",
    "version": 3
   },
   "file_extension": ".py",
   "mimetype": "text/x-python",
   "name": "python",
   "nbconvert_exporter": "python",
   "pygments_lexer": "ipython3",
   "version": "3.9.7"
  },
  "orig_nbformat": 4,
  "vscode": {
   "interpreter": {
    "hash": "34f0680f93e83a4a101ea3928db54ef43df704f0ed6210e5ae2b09f0ef086431"
   }
  }
 },
 "nbformat": 4,
 "nbformat_minor": 2
}
