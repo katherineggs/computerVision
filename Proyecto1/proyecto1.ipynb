{
 "cells": [
  {
   "cell_type": "code",
   "execution_count": 31,
   "metadata": {},
   "outputs": [],
   "source": [
    "from sklearn.ensemble import AdaBoostClassifier, GradientBoostingClassifier\n",
    "from sklearn.metrics import recall_score, precision_score\n",
    "from sklearn.model_selection import train_test_split\n",
    "from skimage.feature import hog\n",
    "from skimage.io import imread\n",
    "import numpy as np\n",
    "import cv2 as cv\n",
    "import pickle\n",
    "import os"
   ]
  },
  {
   "cell_type": "code",
   "execution_count": 2,
   "metadata": {},
   "outputs": [],
   "source": [
    "def loadImg(path, img):\n",
    "    \"\"\"Load img from imgs folder\n",
    "\n",
    "    Args:\n",
    "        path (str): path of file\n",
    "\n",
    "    Returns:\n",
    "        im: image in grayscale\n",
    "    \"\"\"\n",
    "    # color\n",
    "    # im = cv.imread(os.path.join(path, img), cv.IMREAD_COLOR)\n",
    "    # im = cv.cvtColor(im, cv.COLOR_BGR2RGB)\n",
    "    im = imread(os.path.join(path, img))\n",
    "\n",
    "    return im\n"
   ]
  },
  {
   "cell_type": "markdown",
   "metadata": {},
   "source": [
    "X = total samples shape (total , tamaño HOG)\n",
    "y = np.append (np.ones(shpae=))"
   ]
  },
  {
   "cell_type": "code",
   "execution_count": 3,
   "metadata": {},
   "outputs": [],
   "source": [
    "def getHog(folderP,folderB):\n",
    "    \"\"\" get HOG of all imgs\n",
    "\n",
    "    Args:\n",
    "        folderP (_type_): _description_\n",
    "\n",
    "    Returns:\n",
    "        _type_: _description_\n",
    "    \"\"\"\n",
    "    lenFP = len(os.listdir(folderP))\n",
    "    lenFB = len(os.listdir(folderB))\n",
    "    total = lenFP+lenFB\n",
    "    # print(total)\n",
    "    X = np.zeros(shape=(total,3780))\n",
    "    y = np.append(np.ones(shape=(1,lenFP)),np.zeros(shape=(1,lenFB)))\n",
    "    count = 0\n",
    "    for filename in os.listdir(folderP):\n",
    "        img = loadImg(folderP,filename)\n",
    "        if img is not None:\n",
    "            hogImg = hog(img,orientations=9, pixels_per_cell=(8, 8), cells_per_block=(2, 2), \n",
    "            block_norm='L2', feature_vector=True, channel_axis=2) # feature vector= true, channel_Axis=2\n",
    "            X[count] = hogImg\n",
    "        count += 1\n",
    "\n",
    "    for filename in os.listdir(folderB):\n",
    "        img = loadImg(folderB,filename)\n",
    "        if img is not None:\n",
    "            hogImg = hog(img,orientations=9, pixels_per_cell=(8, 8), cells_per_block=(2, 2), \n",
    "            block_norm='L2', feature_vector=True, channel_axis=2) # feature vector= true, channel_Axis=2\n",
    "            X[count] = hogImg\n",
    "        count += 1\n",
    "    return X,y"
   ]
  },
  {
   "cell_type": "markdown",
   "metadata": {},
   "source": [
    "# Cargar data \n",
    "- Se toma 53s con el dataset completo"
   ]
  },
  {
   "cell_type": "code",
   "execution_count": 4,
   "metadata": {},
   "outputs": [],
   "source": [
    "# folderP = 'Pedestrians-Dataset-complete/Pedestrians-Dataset-Dummy/Pedestrians'\n",
    "# folderB = 'Pedestrians-Dataset-complete/Pedestrians-Dataset-Dummy/Background'\n",
    "folderP = 'Pedestrians-Dataset-complete/Pedestrians-Dataset/Pedestrians'\n",
    "folderB = 'Pedestrians-Dataset-complete/Pedestrians-Dataset/Background'\n",
    "X, y = getHog(folderP, folderB)\n"
   ]
  },
  {
   "cell_type": "markdown",
   "metadata": {},
   "source": [
    "# Separar data\n",
    "- X & y no son del mismo tamaño!!! ⚠️\n",
    "- Botamos el extra?"
   ]
  },
  {
   "cell_type": "code",
   "execution_count": 5,
   "metadata": {},
   "outputs": [],
   "source": [
    "xTrain, xTest, yTrain, yTest = train_test_split(X, y, test_size=0.3, random_state=42, shuffle=True)"
   ]
  },
  {
   "cell_type": "markdown",
   "metadata": {},
   "source": [
    "# Adaboost"
   ]
  },
  {
   "cell_type": "code",
   "execution_count": 38,
   "metadata": {},
   "outputs": [],
   "source": [
    "def model(X,y, modelType=\"ABC\"):\n",
    "    # Create adaboost classifer object\n",
    "    if modelType == \"ABC\":\n",
    "        mod = AdaBoostClassifier(n_estimators=150, learning_rate=1)\n",
    "    elif modelType == \"GBC\":\n",
    "        mod = GradientBoostingClassifier(n_estimators=150, learning_rate=1)\n",
    "    # Train Adaboost Classifer\n",
    "    model = mod.fit(X, y)\n",
    "    \n",
    "    return model\n"
   ]
  },
  {
   "cell_type": "code",
   "execution_count": 39,
   "metadata": {},
   "outputs": [],
   "source": [
    "#Predict the response for test dataset\n",
    "modelTrained = model(xTrain,yTrain, \"GBC\")"
   ]
  },
  {
   "cell_type": "code",
   "execution_count": 40,
   "metadata": {},
   "outputs": [],
   "source": [
    "yPred = modelTrained.predict(xTest)"
   ]
  },
  {
   "cell_type": "code",
   "execution_count": 19,
   "metadata": {},
   "outputs": [
    {
     "data": {
      "text/plain": [
       "0.9366576819407008"
      ]
     },
     "execution_count": 19,
     "metadata": {},
     "output_type": "execute_result"
    }
   ],
   "source": [
    "precision_score(yTest, yPred)"
   ]
  },
  {
   "cell_type": "code",
   "execution_count": 41,
   "metadata": {},
   "outputs": [
    {
     "data": {
      "text/plain": [
       "0.9271255060728745"
      ]
     },
     "execution_count": 41,
     "metadata": {},
     "output_type": "execute_result"
    }
   ],
   "source": [
    "precision_score(yTest, yPred)"
   ]
  },
  {
   "cell_type": "code",
   "execution_count": 42,
   "metadata": {},
   "outputs": [
    {
     "data": {
      "text/plain": [
       "0.9003931847968545"
      ]
     },
     "execution_count": 42,
     "metadata": {},
     "output_type": "execute_result"
    }
   ],
   "source": [
    "recall_score(yTest, yPred)"
   ]
  },
  {
   "cell_type": "code",
   "execution_count": null,
   "metadata": {},
   "outputs": [],
   "source": [
    "yTest"
   ]
  },
  {
   "cell_type": "markdown",
   "metadata": {},
   "source": [
    "## Pickle\n",
    "<img src=\"Pickle_rick_transparent_edgetrimmed.webp\" style=\"height: 160px; width:120px;\"/>\n"
   ]
  },
  {
   "cell_type": "code",
   "execution_count": null,
   "metadata": {},
   "outputs": [],
   "source": [
    "def saveModel(model, path=\"\"):\n",
    "    with open(path+'modelPkl', 'wb') as files:\n",
    "        pickle.dump(model, files)\n",
    "\n",
    "def loadModel(path=\"\"):\n",
    "    with open(path+'modelPkl' , 'rb') as files:\n",
    "        model = pickle.load(files)\n",
    "    return model\n"
   ]
  }
 ],
 "metadata": {
  "kernelspec": {
   "display_name": "Python 3.9.7 ('ml')",
   "language": "python",
   "name": "python3"
  },
  "language_info": {
   "codemirror_mode": {
    "name": "ipython",
    "version": 3
   },
   "file_extension": ".py",
   "mimetype": "text/x-python",
   "name": "python",
   "nbconvert_exporter": "python",
   "pygments_lexer": "ipython3",
   "version": "3.9.7"
  },
  "orig_nbformat": 4,
  "vscode": {
   "interpreter": {
    "hash": "34f0680f93e83a4a101ea3928db54ef43df704f0ed6210e5ae2b09f0ef086431"
   }
  }
 },
 "nbformat": 4,
 "nbformat_minor": 2
}
