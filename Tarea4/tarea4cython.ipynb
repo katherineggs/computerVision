{
 "cells": [
  {
   "cell_type": "code",
   "execution_count": null,
   "metadata": {},
   "outputs": [],
   "source": []
  }
 ],
 "metadata": {
  "kernelspec": {
   "display_name": "Python 3.8.8 ('base')",
   "language": "python",
   "name": "python3"
  },
  "language_info": {
   "name": "python",
   "version": "3.8.8"
  },
  "orig_nbformat": 4,
  "vscode": {
   "interpreter": {
    "hash": "d94c1f73a58e90ee80d460cbc9ce8fbd1c7ad7f0ec4d5384ae0f55890aa19e84"
   }
  }
 },
 "nbformat": 4,
 "nbformat_minor": 2
}
